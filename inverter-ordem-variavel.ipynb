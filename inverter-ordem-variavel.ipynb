{
 "metadata": {
  "language_info": {
   "codemirror_mode": {
    "name": "ipython",
    "version": 3
   },
   "file_extension": ".py",
   "mimetype": "text/x-python",
   "name": "python",
   "nbconvert_exporter": "python",
   "pygments_lexer": "ipython3",
   "version": "3.8.6-final"
  },
  "orig_nbformat": 2,
  "kernelspec": {
   "name": "Python 3.8.6 64-bit",
   "display_name": "Python 3.8.6 64-bit",
   "metadata": {
    "interpreter": {
     "hash": "e22f44d5296d423f715b6d0136edacf488e5d420a56d15e4c27c4f1039b35360"
    }
   }
  }
 },
 "nbformat": 4,
 "nbformat_minor": 2,
 "cells": [
  {
   "cell_type": "code",
   "execution_count": null,
   "metadata": {},
   "outputs": [],
   "source": [
    "#Exercício trocar a ordem dos valores das variaveis\n",
    "v1 = input(\"valor 1: \")\n",
    "v2 = input(\"valor 2: \")\n",
    "v3 = v1\n",
    "v1 = v2\n",
    "v2 = v3\n",
    "print('valor em v1:', v1)\n",
    "print('valor em v2:', v2)"
   ]
  }
 ]
}